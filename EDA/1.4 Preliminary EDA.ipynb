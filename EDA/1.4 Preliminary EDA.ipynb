{
 "cells": [
  {
   "cell_type": "markdown",
   "metadata": {},
   "source": [
    "# EDA"
   ]
  },
  {
   "cell_type": "markdown",
   "metadata": {},
   "source": [
    "1. [Daily Dataset](#1-daily-dataset)\n",
    "2. [Half Hourly Dataset](#2-half-hourly-dataset)\n",
    "3. [HHBlock Dataset](#3-hhhblock-dataset)\n",
    "4. [Acorn Details](#4-acorn-details)\n",
    "5. [Daily Dataset](#5-daily-dataset)\n",
    "6. [Informations Households](#6-informations-households)\n",
    "7. [UK Bank Holidays](#7-uk-bank-holidays)\n",
    "8. [Weather Daily Darksky](#8-weather-daily-darksky)\n",
    "9. [Weather Hourly Darksky](#9-weather-hourly-darksky)\n",
    "12. [Tariff Type](#12-tariff-type)"
   ]
  },
  {
   "cell_type": "markdown",
   "metadata": {},
   "source": [
    "---"
   ]
  },
  {
   "cell_type": "markdown",
   "metadata": {},
   "source": [
    "## Import Libraries"
   ]
  },
  {
   "cell_type": "code",
   "execution_count": null,
   "metadata": {},
   "outputs": [],
   "source": [
    "# !pip install ipywidgets"
   ]
  },
  {
   "cell_type": "code",
   "execution_count": null,
   "metadata": {},
   "outputs": [],
   "source": [
    "# Imports\n",
    "import pandas as pd\n",
    "import glob\n",
    "import os\n",
    "import shutil\n",
    "import matplotlib.pyplot as plt\n",
    "import seaborn as sns\n",
    "import math\n",
    "from wordcloud import WordCloud\n",
    "import warnings\n",
    "import ipywidgets as widgets\n",
    "from IPython.display import display"
   ]
  },
  {
   "cell_type": "markdown",
   "metadata": {},
   "source": [
    "---"
   ]
  },
  {
   "cell_type": "markdown",
   "metadata": {},
   "source": [
    "## <div id=\"1-daily-dataset\"> 1. Daily Dataset </div>\n",
    "`daily_dataset`"
   ]
  },
  {
   "cell_type": "code",
   "execution_count": null,
   "metadata": {},
   "outputs": [],
   "source": [
    "# # Combine data\n",
    "\n",
    "# # Define the folder containing the CSV files\n",
    "# file_name = \"1. daily_dataset\"\n",
    "# folder_path = f\"Data/{file_name}/\"\n",
    "\n",
    "# # Get a sorted list of all CSV files matching \"block_X.csv\"\n",
    "# csv_files = sorted(glob.glob(os.path.join(folder_path, \"block_*.csv\")), \n",
    "#             key=lambda x: int(os.path.basename(x).split(\"_\")[1].split(\".\")[0]))\n",
    "\n",
    "# # Read and merge all CSV files\n",
    "# df_list = [pd.read_csv(file) for file in csv_files]\n",
    "# merged_df = pd.concat(df_list, axis=0, ignore_index=True)\n",
    "\n",
    "# # Save the merged DataFrame to a single CSV file\n",
    "# output_path = f\"Data/{file_name}.csv\"\n",
    "# merged_df.to_csv(output_path, index=False)\n",
    "\n",
    "# print(f\"Merged CSV saved to {output_path}\")"
   ]
  },
  {
   "cell_type": "code",
   "execution_count": null,
   "metadata": {},
   "outputs": [],
   "source": [
    "# # Delete original folder\n",
    "# shutil.rmtree(folder_path)\n",
    "# print(f\"Deleted folder: {folder_path}\")"
   ]
  },
  {
   "cell_type": "code",
   "execution_count": null,
   "metadata": {},
   "outputs": [],
   "source": [
    "# Read data\n",
    "df1 = pd.read_csv(\"Data/1. daily_dataset.csv\")\n",
    "df1.head()"
   ]
  },
  {
   "cell_type": "code",
   "execution_count": null,
   "metadata": {},
   "outputs": [],
   "source": [
    "# Print shape & columns\n",
    "df1_shape = df1.shape\n",
    "print(f\"The shape of `df1` is: {df1_shape}\")\n",
    "\n",
    "df1_columns = df1.columns\n",
    "df1_columns_count = len(df1_columns)\n",
    "print(f\"\\n`df1` contains {df1_columns_count} columns: \\n{df1_columns}\")"
   ]
  },
  {
   "cell_type": "code",
   "execution_count": null,
   "metadata": {},
   "outputs": [],
   "source": [
    "# Display basic info\n",
    "print(df1.info())\n",
    "print(df1.describe())"
   ]
  },
  {
   "cell_type": "code",
   "execution_count": null,
   "metadata": {},
   "outputs": [],
   "source": [
    "# Check missing values\n",
    "print(df1.isnull().sum())"
   ]
  },
  {
   "cell_type": "code",
   "execution_count": null,
   "metadata": {},
   "outputs": [],
   "source": [
    "# Time Series Trend of Energy Consumption\n",
    "plt.figure(figsize=(12, 5))\n",
    "sns.lineplot(x='day', y='energy_sum', data=df1)\n",
    "plt.title('Daily Energy Consumption Trend')\n",
    "plt.xlabel('Date')\n",
    "plt.ylabel('Total Energy Consumed')\n",
    "plt.xticks(rotation=45)\n",
    "plt.show()"
   ]
  },
  {
   "cell_type": "code",
   "execution_count": null,
   "metadata": {},
   "outputs": [],
   "source": [
    "# Distribution of Energy Consumption\n",
    "plt.figure(figsize=(8, 5))\n",
    "sns.histplot(df1['energy_sum'], bins=30, kde=True)\n",
    "plt.title('Distribution of Daily Energy Consumption')\n",
    "plt.xlabel('Energy Sum')\n",
    "plt.ylabel('Frequency')\n",
    "plt.show()"
   ]
  },
  {
   "cell_type": "code",
   "execution_count": null,
   "metadata": {},
   "outputs": [],
   "source": [
    "# Boxplot to Identify Outliers\n",
    "plt.figure(figsize=(8, 5))\n",
    "sns.boxplot(x=df1['energy_sum'])\n",
    "plt.title('Boxplot of Daily Energy Consumption')\n",
    "plt.show()"
   ]
  },
  {
   "cell_type": "code",
   "execution_count": null,
   "metadata": {},
   "outputs": [],
   "source": [
    "# Correlation Heatmap\n",
    "plt.figure(figsize=(8, 6))\n",
    "sns.heatmap(df1.corr(), annot=True, cmap='coolwarm', fmt=\".2f\")\n",
    "plt.title('Correlation Heatmap')\n",
    "plt.show()"
   ]
  },
  {
   "cell_type": "markdown",
   "metadata": {},
   "source": [
    "---"
   ]
  },
  {
   "cell_type": "markdown",
   "metadata": {},
   "source": [
    "## <div id=\"2-half-hourly-dataset\"> 2. Half Hourly Dataset </div>\n",
    "`halfhourly_dataset`"
   ]
  },
  {
   "cell_type": "code",
   "execution_count": null,
   "metadata": {},
   "outputs": [],
   "source": [
    "# # Combine data\n",
    "\n",
    "# # Define the folder containing the CSV files\n",
    "# file_name = \"2. halfhourly_dataset\"\n",
    "# folder_path = f\"Data/{file_name}/\"\n",
    "\n",
    "# # Get a sorted list of all CSV files matching \"block_X.csv\"\n",
    "# csv_files = sorted(glob.glob(os.path.join(folder_path, \"block_*.csv\")), \n",
    "#             key=lambda x: int(os.path.basename(x).split(\"_\")[1].split(\".\")[0]))\n",
    "\n",
    "# # Read and merge all CSV files\n",
    "# df_list = [pd.read_csv(file) for file in csv_files]\n",
    "# merged_df = pd.concat(df_list, axis=0, ignore_index=True)\n",
    "\n",
    "# # Save the merged DataFrame to a single CSV file\n",
    "# output_path = f\"Data/{file_name}.csv\"\n",
    "# merged_df.to_csv(output_path, index=False)\n",
    "\n",
    "# print(f\"Merged CSV saved to {output_path}\")"
   ]
  },
  {
   "cell_type": "code",
   "execution_count": null,
   "metadata": {},
   "outputs": [],
   "source": [
    "# # Delete original folder\n",
    "# shutil.rmtree(folder_path)\n",
    "# print(f\"Deleted folder: {folder_path}\")"
   ]
  },
  {
   "cell_type": "code",
   "execution_count": null,
   "metadata": {},
   "outputs": [],
   "source": [
    "# Read data\n",
    "df2 = pd.read_csv(\"Data/2. halfhourly_dataset.csv\")\n",
    "df2.head()"
   ]
  },
  {
   "cell_type": "code",
   "execution_count": null,
   "metadata": {},
   "outputs": [],
   "source": [
    "# Print shape & columns\n",
    "df2_shape = df2.shape\n",
    "print(f\"The shape of `df2` is: {df2_shape}\")\n",
    "\n",
    "df2_columns = df2.columns\n",
    "df2_columns_count = len(df2_columns)\n",
    "print(f\"\\n`df2` contains {df2_columns_count} columns: \\n{df2_columns}\")"
   ]
  },
  {
   "cell_type": "code",
   "execution_count": null,
   "metadata": {},
   "outputs": [],
   "source": [
    "# Display basic info\n",
    "print(df2.info())\n",
    "print(df2.describe())"
   ]
  },
  {
   "cell_type": "code",
   "execution_count": null,
   "metadata": {},
   "outputs": [],
   "source": [
    "# Check missing values\n",
    "print(df2.isnull().sum())"
   ]
  },
  {
   "cell_type": "markdown",
   "metadata": {},
   "source": [
    "---"
   ]
  },
  {
   "cell_type": "markdown",
   "metadata": {},
   "source": [
    "## <div id=\"3-hhhblock-dataset\"> 3. HHBlock Dataset </div>\n",
    "`hhblock_dataset`"
   ]
  },
  {
   "cell_type": "code",
   "execution_count": null,
   "metadata": {},
   "outputs": [],
   "source": [
    "# # Combine data\n",
    "\n",
    "# # Define the folder containing the CSV files\n",
    "# file_name = \"3. hhblock_dataset\"\n",
    "# folder_path = f\"Data/{file_name}/\"\n",
    "\n",
    "# # Get a sorted list of all CSV files matching \"block_X.csv\"\n",
    "# csv_files = sorted(glob.glob(os.path.join(folder_path, \"block_*.csv\")), \n",
    "#             key=lambda x: int(os.path.basename(x).split(\"_\")[1].split(\".\")[0]))\n",
    "\n",
    "# # Read and merge all CSV files\n",
    "# df_list = [pd.read_csv(file) for file in csv_files]\n",
    "# merged_df = pd.concat(df_list, axis=0, ignore_index=True)\n",
    "\n",
    "# # Save the merged DataFrame to a single CSV file\n",
    "# output_path = f\"Data/{file_name}.csv\"\n",
    "# merged_df.to_csv(output_path, index=False)\n",
    "\n",
    "# print(f\"Merged CSV saved to {output_path}\")"
   ]
  },
  {
   "cell_type": "code",
   "execution_count": null,
   "metadata": {},
   "outputs": [],
   "source": [
    "# # Delete original folder\n",
    "# shutil.rmtree(folder_path)\n",
    "# print(f\"Deleted folder: {folder_path}\")"
   ]
  },
  {
   "cell_type": "code",
   "execution_count": null,
   "metadata": {},
   "outputs": [],
   "source": [
    "# Read data\n",
    "df3 = pd.read_csv(\"Data/3. hhblock_dataset.csv\")\n",
    "df3.head()"
   ]
  },
  {
   "cell_type": "code",
   "execution_count": null,
   "metadata": {},
   "outputs": [],
   "source": [
    "# Print shape & columns\n",
    "df3_shape = df3.shape\n",
    "print(f\"The shape of `df3` is: {df3_shape}\")\n",
    "\n",
    "df3_columns = df3.columns\n",
    "df3_columns_count = len(df3_columns)\n",
    "print(f\"\\n`df3` contains {df3_columns_count} columns: \\n{df3_columns}\")"
   ]
  },
  {
   "cell_type": "code",
   "execution_count": null,
   "metadata": {},
   "outputs": [],
   "source": [
    "# Display basic info\n",
    "print(df3.info())\n",
    "print(df3.describe())"
   ]
  },
  {
   "cell_type": "code",
   "execution_count": null,
   "metadata": {},
   "outputs": [],
   "source": [
    "# Check missing values\n",
    "print(df3.isnull().sum())"
   ]
  },
  {
   "cell_type": "code",
   "execution_count": null,
   "metadata": {},
   "outputs": [],
   "source": [
    "# Plot energy usage for household hh_0 across all days\n",
    "\n",
    "plt.figure(figsize=(12, 6))\n",
    "sns.lineplot(data=df3, x='day', y='hh_0')\n",
    "plt.title('Energy Consumption of hh_0 Across Days')\n",
    "plt.xlabel('Day')\n",
    "plt.ylabel('Energy Consumption (kWh)')\n",
    "plt.xticks(rotation=45)\n",
    "plt.tight_layout()\n",
    "plt.show()"
   ]
  },
  {
   "cell_type": "code",
   "execution_count": null,
   "metadata": {},
   "outputs": [],
   "source": [
    "# Plot the distribution of energy consumption for all households\n",
    "\n",
    "plt.figure(figsize=(12, 6))\n",
    "sns.boxplot(data=df3.iloc[:, 2:])  # Skip the first two columns (LCLid, day)\n",
    "plt.title('Energy Consumption Distribution Across Households')\n",
    "plt.xlabel('Household')\n",
    "plt.ylabel('Energy Consumption (kWh)')\n",
    "plt.xticks(rotation=90)\n",
    "plt.tight_layout()\n",
    "plt.show()"
   ]
  },
  {
   "cell_type": "code",
   "execution_count": null,
   "metadata": {},
   "outputs": [],
   "source": [
    "# Plot energy consumption for a few households (e.g., hh_0, hh_1, hh_2) over a selected period\n",
    "\n",
    "plt.figure(figsize=(12, 6))\n",
    "sns.lineplot(data=df3[['day', 'hh_0', 'hh_1', 'hh_2']], x='day', y='hh_0', label='hh_0')\n",
    "sns.lineplot(data=df3[['day', 'hh_0', 'hh_1', 'hh_2']], x='day', y='hh_1', label='hh_1')\n",
    "sns.lineplot(data=df3[['day', 'hh_0', 'hh_1', 'hh_2']], x='day', y='hh_2', label='hh_2')\n",
    "plt.title('Energy Consumption Trends for Selected Households')\n",
    "plt.xlabel('Day')\n",
    "plt.ylabel('Energy Consumption (kWh)')\n",
    "plt.xticks(rotation=45)\n",
    "plt.legend(title='Households')\n",
    "plt.tight_layout()\n",
    "plt.show()"
   ]
  },
  {
   "cell_type": "code",
   "execution_count": null,
   "metadata": {},
   "outputs": [],
   "source": [
    "# # Heatmap of energy consumption for a subset of households over a period of days\n",
    "\n",
    "# plt.figure(figsize=(12, 8))\n",
    "# subset = df3[['day', 'hh_0', 'hh_1', 'hh_2', 'hh_3', 'hh_4']].set_index('day').transpose()\n",
    "# sns.heatmap(subset, cmap='YlGnBu', annot=True, cbar_kws={'label': 'Energy Consumption (kWh)'})\n",
    "# plt.title('Energy Consumption Heatmap for Households')\n",
    "# plt.xlabel('Day')\n",
    "# plt.ylabel('Household')\n",
    "# plt.tight_layout()\n",
    "# plt.show()"
   ]
  },
  {
   "cell_type": "markdown",
   "metadata": {},
   "source": [
    "---"
   ]
  },
  {
   "cell_type": "markdown",
   "metadata": {},
   "source": [
    "## <div id=\"4-acorn-details\"> 4. Acorn Details </div>\n",
    "`acorn_details.csv`"
   ]
  },
  {
   "cell_type": "code",
   "execution_count": null,
   "metadata": {},
   "outputs": [],
   "source": [
    "# Read data\n",
    "df4 = pd.read_csv(\"../Data/4. acorn_details.csv\", encoding='ISO-8859-1')\n",
    "df4.head()"
   ]
  },
  {
   "cell_type": "code",
   "execution_count": null,
   "metadata": {},
   "outputs": [],
   "source": [
    "# Print shape & columns\n",
    "df4_shape = df4.shape\n",
    "print(f\"The shape of `df4` is: {df4_shape}\")\n",
    "\n",
    "df4_columns = df4.columns\n",
    "df4_columns_count = len(df4_columns)\n",
    "print(f\"\\n`df4` contains {df4_columns_count} columns: \\n{df4_columns}\")"
   ]
  },
  {
   "cell_type": "code",
   "execution_count": null,
   "metadata": {},
   "outputs": [],
   "source": [
    "# Display basic info\n",
    "print(df4.info())\n",
    "print(df4.describe())"
   ]
  },
  {
   "cell_type": "code",
   "execution_count": null,
   "metadata": {},
   "outputs": [],
   "source": [
    "# Check missing values\n",
    "print(df4.isnull().sum())"
   ]
  },
  {
   "cell_type": "code",
   "execution_count": null,
   "metadata": {},
   "outputs": [],
   "source": [
    "# Group by 'MAIN CATEGORIES' and 'CATEGORIES'\n",
    "category_summary = df4.groupby(['MAIN CATEGORIES', 'CATEGORIES']).mean()\n",
    "category_summary"
   ]
  },
  {
   "cell_type": "code",
   "execution_count": null,
   "metadata": {},
   "outputs": [],
   "source": [
    "# Distribution of ACORN Categories\n",
    "\n",
    "acorn_columns = [col for col in df4.columns if 'ACORN' in col]\n",
    "\n",
    "# Get the number of rows and columns for the subplots\n",
    "num_cols = 4  # You can adjust this based on your preference\n",
    "num_rows = math.ceil(len(acorn_columns) / num_cols)\n",
    "\n",
    "# Create the figure and subplots dynamically\n",
    "plt.figure(figsize=(num_cols * 4, num_rows * 4))\n",
    "\n",
    "for i, col in enumerate(acorn_columns):\n",
    "    plt.subplot(num_rows, num_cols, i + 1)  # Create a subplot for each ACORN category\n",
    "    sns.histplot(df4[col], kde=True)\n",
    "    plt.title(f'Distribution of {col}')\n",
    "\n",
    "plt.tight_layout()\n",
    "plt.show()"
   ]
  },
  {
   "cell_type": "code",
   "execution_count": null,
   "metadata": {},
   "outputs": [],
   "source": [
    "# Heatmap of the ACORN Categories\n",
    "\n",
    "acorn_data = df4[acorn_columns]\n",
    "\n",
    "plt.figure(figsize=(12, 8))\n",
    "sns.heatmap(acorn_data.corr(), annot=True, cmap='coolwarm', fmt=\".2f\")\n",
    "plt.title('Correlation Heatmap of ACORN Categories')\n",
    "plt.show()"
   ]
  },
  {
   "cell_type": "code",
   "execution_count": null,
   "metadata": {},
   "outputs": [],
   "source": [
    "# Boxplot of ACORN Categories by Age Group\n",
    "plt.figure(figsize=(12, 6))\n",
    "sns.boxplot(data=df4[acorn_columns])\n",
    "plt.title('Boxplot of ACORN Categories')\n",
    "plt.xticks(rotation=45)\n",
    "plt.show()"
   ]
  },
  {
   "cell_type": "code",
   "execution_count": null,
   "metadata": {},
   "outputs": [],
   "source": [
    "# Pairplot of Select ACORN Categories\n",
    "sns.pairplot(df4[acorn_columns])\n",
    "plt.suptitle('Pairplot of ACORN Categories', y=1.02)\n",
    "plt.show()"
   ]
  },
  {
   "cell_type": "code",
   "execution_count": null,
   "metadata": {},
   "outputs": [],
   "source": [
    "# All Categories\n",
    "\n",
    "df4['MAIN CATEGORIES'].unique()"
   ]
  },
  {
   "cell_type": "code",
   "execution_count": null,
   "metadata": {},
   "outputs": [],
   "source": [
    "# ---------------------------------------------\n",
    "# Heatmap of All ACORN Group Indices\n",
    "# --> Overall view of how each attribute varies across ACORN groups\n",
    "# ---------------------------------------------\n",
    "\n",
    "warnings.simplefilter(\"ignore\", UserWarning)\n",
    "\n",
    "# Create a composite attribute name for clarity\n",
    "df4['Attribute'] = df4['CATEGORIES'] + \": \" + df4['REFERENCE']\n",
    "\n",
    "# Select ACORN columns (assuming they all start with 'ACORN')\n",
    "acorn_columns = [col for col in df4.columns if col.startswith('ACORN')]\n",
    "\n",
    "# Get unique CATEGORIES\n",
    "categories = df4['CATEGORIES'].unique()\n",
    "\n",
    "# Scrollable output\n",
    "output = widgets.Output()\n",
    "with output:\n",
    "    display(widgets.HTML(\"<style> .output_scroll { max-height: 600px; overflow-y: auto; } </style>\"))\n",
    "\n",
    "    # Create subplots\n",
    "    fig, axes = plt.subplots(len(categories), 1, figsize=(20, len(categories) * 6))  \n",
    "    axes = axes.flatten() if len(categories) > 1 else [axes]  \n",
    "\n",
    "    # Adjust subplot layout to ensure centering\n",
    "    plt.subplots_adjust(left=0.15, right=0.85)  \n",
    "\n",
    "    # Generate a heatmap for each CATEGORY\n",
    "    for i, category in enumerate(categories):\n",
    "        ax = axes[i]\n",
    "        subset = df4[df4['CATEGORIES'] == category]\n",
    "        heatmap_data = subset.set_index('Attribute')[acorn_columns]\n",
    "\n",
    "        # Round values to two decimal places for annotation\n",
    "        rounded_data = heatmap_data.round(2)\n",
    "\n",
    "        # Plot heatmap for this category with custom annotation format (no scientific notation, 2 decimal places)\n",
    "        sns.heatmap(heatmap_data, annot=rounded_data, cmap=\"coolwarm\", center=100, ax=ax, fmt=\".2f\",\n",
    "            annot_kws={\"size\": 8})  # Adjust font size\n",
    "        ax.set_title(f\"Heatmap for {category}\")\n",
    "        ax.set_xlabel(\"ACORN Groups\")\n",
    "        ax.set_ylabel(\"Attributes\")\n",
    "\n",
    "        # Rotate x-axis labels for better readability\n",
    "        ax.set_xticklabels(ax.get_xticklabels(), rotation=90)\n",
    "\n",
    "        # Center align the heatmap within the figure\n",
    "        ax.set_anchor(\"C\")  \n",
    "\n",
    "    plt.tight_layout()\n",
    "    plt.show()\n",
    "\n",
    "# Display in scrollable container\n",
    "display(widgets.VBox([output], layout=widgets.Layout(overflow_y='auto', height='600px')))"
   ]
  },
  {
   "cell_type": "code",
   "execution_count": null,
   "metadata": {},
   "outputs": [],
   "source": [
    "# ---------------------------------------------\n",
    "# Comparative Bar Chart Across Categories\n",
    "# --> Grouped bar chart to compare the profile of each ACORN group across these subcategories\n",
    "# ---------------------------------------------\n",
    "\n",
    "# Get unique MAIN CATEGORIES\n",
    "main_categories = df4['MAIN CATEGORIES'].unique()\n",
    "\n",
    "# Scrollable output container\n",
    "output = widgets.Output()\n",
    "with output:\n",
    "    display(widgets.HTML(\"<style>.output_scroll { max-height: 600px; overflow-y: auto; }</style>\"))\n",
    "\n",
    "    # Iterate through each MAIN CATEGORY\n",
    "    for main_category in main_categories:\n",
    "        sub_df = df4[df4['MAIN CATEGORIES'] == main_category]\n",
    "        categories = sub_df['CATEGORIES'].unique()\n",
    "        \n",
    "        # Create subplots (one row per CATEGORY)\n",
    "        fig, axes = plt.subplots(len(categories), 1, figsize=(15, len(categories) * 4), constrained_layout=True)\n",
    "        axes = axes.flatten() if len(categories) > 1 else [axes]\n",
    "\n",
    "        # Add MAIN CATEGORY title to the first subplot\n",
    "        fig.suptitle(f\"Comparative Bar Chart for {main_category}\", fontsize=14, fontweight=\"bold\", y=0.98)  # Adjusted y to bring closer\n",
    "\n",
    "        for i, category in enumerate(categories):\n",
    "            ax = axes[i]\n",
    "            category_data = sub_df[sub_df['CATEGORIES'] == category].set_index('REFERENCE')[acorn_columns]\n",
    "            category_data_transposed = category_data.T\n",
    "\n",
    "            # Plot bar chart\n",
    "            category_data_transposed.plot(kind='bar', ax=ax, width=0.8)\n",
    "            ax.set_title(f\"{category} Across ACORN Groups\", fontsize=12, fontweight=\"bold\", pad=0.2)  # Reduced pad\n",
    "            ax.set_xlabel(\"ACORN Groups\", fontsize=10, labelpad=0.5)\n",
    "            ax.set_ylabel(\"Index Value\", fontsize=10, labelpad=0.5)\n",
    "            ax.axhline(100, color='grey', linestyle='--', label='National Average (100)')\n",
    "            ax.legend(title=category, bbox_to_anchor=(1.05, 1), loc='upper left')\n",
    "\n",
    "        # Adjust vertical spacing between subplots to minimize space\n",
    "        plt.subplots_adjust(hspace=0.5)  # Reduced space between subplots\n",
    "\n",
    "        # Adjust horizontal separator to be closer to the last plot\n",
    "        plt.figtext(0.5, -0.02, \"─\" * 100, ha=\"center\", fontsize=12, color='black')\n",
    "\n",
    "        plt.show()\n",
    "\n",
    "# Display scrollable charts\n",
    "display(widgets.VBox([output], layout=widgets.Layout(overflow_y='auto', height='600px')))"
   ]
  },
  {
   "cell_type": "markdown",
   "metadata": {},
   "source": [
    "<h3> <b> Important Findings From Comparative Bar Chart </b> </h3>\n",
    "\n",
    "<h4> <u> POPULATION </u> </h4>\n",
    "\n",
    "- `Age`: **ACORN-K** having a high number of age 18-24\n",
    "- `Geography`: **ACORN-D** having no people staying in England\n",
    "\n",
    "<h4> <u> HOUSING </u> </h4>\n",
    "\n",
    "- `House Size`: High number of 5+ bedrooms for **ACORN A** and **ACORN-K**, with **ACORN-K** being an outlier\n",
    "\n",
    "<h4> <u> FAMILY </u> </h4>\n",
    "\n",
    "- `Structure`: High number of students in **ACORN-K**\n",
    "- `Children`: High number of 3+ children in **ACORN-P**\n",
    "\n",
    "<h4> <u> ECONOMY </u> </h4>\n",
    "\n",
    "- `Economic Activity`: High number of students in **ACORN-K** | high number of retired in **ACORN-I** and **ACORN-N**\n",
    "- `NS Socio-Economic Classifications`: High number of higher managerial in **ACORN-A** & **ACORN-D** | high number of never worked and long-term unemployed in **ACORN-P** & **ACORN-Q**\n",
    "- `Occupation`: High number of professional in **ACORN-D** and **ACORN-E** | high number of unemployed in **ACORN-Q**\n",
    "\n",
    "<h4> <u> EDUCATION </u> </h4>\n",
    "\n",
    "- `Highest Level of Qualifications (Adults)`: Highest degree holders in **ACORN-D** and **ACORN-A** | highest below degree in **ACORN-K**\n",
    "\n",
    "<h4> <u> TRANSPORT </u> </h4>\n",
    "\n",
    "- `Travel to Work`: Highest train/tube/tram takers in **ACORN-D** | high number of WFH in **ACORN-A** and **ACORN-F**\n",
    "- `Car Ownership`: Highest no car ownershuo in **ACORN-Q**, **ACORN-K** and **ACORN-D**\n",
    "\n",
    "<h4> <u> FINANCE </u> </h4>\n",
    "\n",
    "- `Household Annual Income`: High number of high income earners in **ACORN-A**, **ACORN-B** and **ACORN-C** | high number of low income earners in **ACORN-N**, **ACORN-Q** and **ACORN-P**\n",
    "- `Loans`: Highest number of unsecured debt in **ACORN-G** and **ACORN-B** | high number of 2+ loans in **ACORN-D**\n",
    "- `Expenditure per person per week`: Highest on housing, water, electricity, gas and other fuels for **ACORN-D**, **ACORN-K**, **ACORN-P** and **ACORN-Q**\n",
    "\n",
    "<h4> <u> ENVIRONMENT </u> </h4>\n",
    "\n",
    "- `Environmental Groups`: Highest number of members in environmental groups in **ACORN-D**, **ACORN-E** and **ACORN-K**"
   ]
  },
  {
   "cell_type": "markdown",
   "metadata": {},
   "source": [
    "---"
   ]
  },
  {
   "cell_type": "markdown",
   "metadata": {},
   "source": [
    "## <div id=\"5-daily-dataset\"> 5. Daily Dataset </div>\n",
    "`daily_dataset.csv`"
   ]
  },
  {
   "cell_type": "code",
   "execution_count": null,
   "metadata": {},
   "outputs": [],
   "source": [
    "# Read data\n",
    "df5 = pd.read_csv(\"Data/5. daily_dataset.csv\")\n",
    "df5.head()"
   ]
  },
  {
   "cell_type": "code",
   "execution_count": null,
   "metadata": {},
   "outputs": [],
   "source": [
    "# Print shape & columns\n",
    "df5_shape = df5.shape\n",
    "print(f\"The shape of `df5` is: {df5_shape}\")\n",
    "\n",
    "df5_columns = df5.columns\n",
    "df5_columns_count = len(df5_columns)\n",
    "print(f\"\\n`df5` contains {df5_columns_count} columns: \\n{df5_columns}\")"
   ]
  },
  {
   "cell_type": "code",
   "execution_count": null,
   "metadata": {},
   "outputs": [],
   "source": [
    "# Display basic info\n",
    "print(df5.info())\n",
    "print(df5.describe())"
   ]
  },
  {
   "cell_type": "code",
   "execution_count": null,
   "metadata": {},
   "outputs": [],
   "source": [
    "# Check missing values\n",
    "print(df5.isnull().sum())"
   ]
  },
  {
   "cell_type": "code",
   "execution_count": null,
   "metadata": {},
   "outputs": [],
   "source": [
    "# Plot energy_median over time\n",
    "plt.figure(figsize=(12, 8))\n",
    "sns.lineplot(data=df5, x='day', y='energy_median')\n",
    "plt.title('Energy Median Over Time')\n",
    "plt.xlabel('Day')\n",
    "plt.ylabel('Energy Median (kWh)')\n",
    "plt.xticks(rotation=45)\n",
    "plt.tight_layout()\n",
    "plt.show()"
   ]
  },
  {
   "cell_type": "code",
   "execution_count": null,
   "metadata": {},
   "outputs": [],
   "source": [
    "# Plot energy_mean over time\n",
    "plt.figure(figsize=(12, 8))\n",
    "sns.lineplot(data=df5, x='day', y='energy_mean')\n",
    "plt.title('Energy Mean Over Time')\n",
    "plt.xlabel('Day')\n",
    "plt.ylabel('Energy Mean (kWh)')\n",
    "plt.xticks(rotation=45)\n",
    "plt.tight_layout()\n",
    "plt.show()"
   ]
  },
  {
   "cell_type": "code",
   "execution_count": null,
   "metadata": {},
   "outputs": [],
   "source": [
    "# Plot energy_max over time\n",
    "plt.figure(figsize=(12, 8))\n",
    "sns.lineplot(data=df5, x='day', y='energy_max')\n",
    "plt.title('Energy Max Over Time')\n",
    "plt.xlabel('Day')\n",
    "plt.ylabel('Energy Max (kWh)')\n",
    "plt.xticks(rotation=45)\n",
    "plt.tight_layout()\n",
    "plt.show()"
   ]
  },
  {
   "cell_type": "code",
   "execution_count": null,
   "metadata": {},
   "outputs": [],
   "source": [
    "# Plot energy_count over time\n",
    "plt.figure(figsize=(12, 8))\n",
    "sns.lineplot(data=df5, x='day', y='energy_count')\n",
    "plt.title('Energy Count Over Time')\n",
    "plt.xlabel('Day')\n",
    "plt.ylabel('Energy Count')\n",
    "plt.xticks(rotation=45)\n",
    "plt.tight_layout()\n",
    "plt.show()"
   ]
  },
  {
   "cell_type": "code",
   "execution_count": null,
   "metadata": {},
   "outputs": [],
   "source": [
    "# Plot energy_std over time\n",
    "plt.figure(figsize=(12, 8))\n",
    "sns.lineplot(data=df5, x='day', y='energy_std')\n",
    "plt.title('Energy Standard Deviation Over Time')\n",
    "plt.xlabel('Day')\n",
    "plt.ylabel('Energy Std (kWh)')\n",
    "plt.xticks(rotation=45)\n",
    "plt.tight_layout()\n",
    "plt.show()"
   ]
  },
  {
   "cell_type": "code",
   "execution_count": null,
   "metadata": {},
   "outputs": [],
   "source": [
    "# Plot energy_sum over time\n",
    "plt.figure(figsize=(12, 8))\n",
    "sns.lineplot(data=df5, x='day', y='energy_sum')\n",
    "plt.title('Energy Sum Over Time')\n",
    "plt.xlabel('Day')\n",
    "plt.ylabel('Energy Sum (kWh)')\n",
    "plt.xticks(rotation=45)\n",
    "plt.tight_layout()\n",
    "plt.show()"
   ]
  },
  {
   "cell_type": "code",
   "execution_count": null,
   "metadata": {},
   "outputs": [],
   "source": [
    "# Plot energy_min over time\n",
    "plt.figure(figsize=(12, 8))\n",
    "sns.lineplot(data=df5, x='day', y='energy_min')\n",
    "plt.title('Energy Min Over Time')\n",
    "plt.xlabel('Day')\n",
    "plt.ylabel('Energy Min (kWh)')\n",
    "plt.xticks(rotation=45)\n",
    "plt.tight_layout()\n",
    "plt.show()"
   ]
  },
  {
   "cell_type": "code",
   "execution_count": null,
   "metadata": {},
   "outputs": [],
   "source": [
    "# Correlation heatmap of energy metrics\n",
    "correlation_matrix = df5[['energy_median', 'energy_mean', 'energy_max', 'energy_count', 'energy_std', 'energy_sum', 'energy_min']].corr()\n",
    "\n",
    "plt.figure(figsize=(10, 8))\n",
    "sns.heatmap(correlation_matrix, annot=True, cmap='coolwarm', fmt='.2f', linewidths=0.5)\n",
    "plt.title('Correlation Heatmap of Energy Metrics')\n",
    "plt.tight_layout()\n",
    "plt.show()"
   ]
  },
  {
   "cell_type": "markdown",
   "metadata": {},
   "source": [
    "---"
   ]
  },
  {
   "cell_type": "markdown",
   "metadata": {},
   "source": [
    "## <div id=\"6-informations-households\"> 6. Informations Households </div>\n",
    "`informations_households.csv`"
   ]
  },
  {
   "cell_type": "code",
   "execution_count": null,
   "metadata": {},
   "outputs": [],
   "source": [
    "# Read data\n",
    "df6 = pd.read_csv(\"Data/6. informations_households.csv\")\n",
    "df6.head()"
   ]
  },
  {
   "cell_type": "code",
   "execution_count": null,
   "metadata": {},
   "outputs": [],
   "source": [
    "# Print shape & columns\n",
    "df6_shape = df6.shape\n",
    "print(f\"The shape of `df6` is: {df6_shape}\")\n",
    "\n",
    "df6_columns = df6.columns\n",
    "df6_columns_count = len(df6_columns)\n",
    "print(f\"\\n`df6` contains {df6_columns_count} columns: \\n{df6_columns}\")"
   ]
  },
  {
   "cell_type": "code",
   "execution_count": null,
   "metadata": {},
   "outputs": [],
   "source": [
    "# Display basic info\n",
    "print(df6.info())\n",
    "print(df6.describe())"
   ]
  },
  {
   "cell_type": "code",
   "execution_count": null,
   "metadata": {},
   "outputs": [],
   "source": [
    "# Check missing values\n",
    "print(df6.isnull().sum())"
   ]
  },
  {
   "cell_type": "code",
   "execution_count": null,
   "metadata": {},
   "outputs": [],
   "source": [
    "# Plot distribution of 'stdorToU'\n",
    "plt.figure(figsize=(8, 6))\n",
    "sns.countplot(x='stdorToU', data=df6, palette='Set2')\n",
    "plt.title('Distribution of stdorToU')\n",
    "plt.xlabel('Type (ToU or Std)')\n",
    "plt.ylabel('Count')\n",
    "plt.tight_layout()\n",
    "plt.show()"
   ]
  },
  {
   "cell_type": "code",
   "execution_count": null,
   "metadata": {},
   "outputs": [],
   "source": [
    "# Plot distribution of 'Acorn_grouped'\n",
    "plt.figure(figsize=(8, 6))\n",
    "sns.countplot(x='Acorn_grouped', data=df6, palette='Set3')\n",
    "plt.title('Distribution of Acorn Grouped')\n",
    "plt.xlabel('Acorn Grouped')\n",
    "plt.ylabel('Count')\n",
    "plt.tight_layout()\n",
    "plt.show()"
   ]
  },
  {
   "cell_type": "code",
   "execution_count": null,
   "metadata": {},
   "outputs": [],
   "source": [
    "# Plot distribution of 'Acorn'\n",
    "plt.figure(figsize=(8, 6))\n",
    "sns.countplot(x='Acorn', data=df6, palette='Set1')\n",
    "plt.title('Distribution of Acorn Categories')\n",
    "plt.xlabel('Acorn Categories')\n",
    "plt.ylabel('Count')\n",
    "plt.xticks(rotation=90) \n",
    "plt.tight_layout()\n",
    "plt.show()"
   ]
  },
  {
   "cell_type": "code",
   "execution_count": null,
   "metadata": {},
   "outputs": [],
   "source": [
    "# Plot distribution of 'file'\n",
    "plt.figure(figsize=(8, 6))\n",
    "sns.countplot(x='file', data=df6, palette='Set2')\n",
    "plt.title('Distribution of File Blocks')\n",
    "plt.xlabel('File Blocks')\n",
    "plt.ylabel('Count')\n",
    "plt.tight_layout()\n",
    "plt.show()"
   ]
  },
  {
   "cell_type": "code",
   "execution_count": null,
   "metadata": {},
   "outputs": [],
   "source": [
    "# Group-by Analysis (e.g., count by 'Acorn_grouped' and 'stdorToU')\n",
    "plt.figure(figsize=(8, 6))\n",
    "sns.countplot(x='Acorn_grouped', hue='stdorToU', data=df6, palette='Set1')\n",
    "plt.title('Acorn Grouped by Type (ToU vs Std)')\n",
    "plt.xlabel('Acorn Grouped')\n",
    "plt.ylabel('Count')\n",
    "plt.tight_layout()\n",
    "plt.show()"
   ]
  },
  {
   "cell_type": "markdown",
   "metadata": {},
   "source": [
    "---"
   ]
  },
  {
   "cell_type": "markdown",
   "metadata": {},
   "source": [
    "## <div id=\"7-uk-bank-holidays\">  7. UK Bank Holidays </div>\n",
    "`uk_bank_holidays.csv`"
   ]
  },
  {
   "cell_type": "code",
   "execution_count": null,
   "metadata": {},
   "outputs": [],
   "source": [
    "# Read data\n",
    "df7 = pd.read_csv(\"Data/7. uk_bank_holidays.csv\")\n",
    "df7.head()"
   ]
  },
  {
   "cell_type": "code",
   "execution_count": null,
   "metadata": {},
   "outputs": [],
   "source": [
    "# Print shape & columns\n",
    "df7_shape = df7.shape\n",
    "print(f\"The shape of `df7` is: {df7_shape}\")\n",
    "\n",
    "df7_columns = df7.columns\n",
    "df7_columns_count = len(df7_columns)\n",
    "print(f\"\\n`df7` contains {df7_columns_count} columns: \\n{df7_columns}\")"
   ]
  },
  {
   "cell_type": "code",
   "execution_count": null,
   "metadata": {},
   "outputs": [],
   "source": [
    "# Display basic info\n",
    "print(df7.info())\n",
    "print(df7.describe())"
   ]
  },
  {
   "cell_type": "code",
   "execution_count": null,
   "metadata": {},
   "outputs": [],
   "source": [
    "# Check missing values\n",
    "print(df7.isnull().sum())"
   ]
  },
  {
   "cell_type": "code",
   "execution_count": null,
   "metadata": {},
   "outputs": [],
   "source": [
    "# Display the unique types of holidays\n",
    "df7['Type'].unique()"
   ]
  },
  {
   "cell_type": "code",
   "execution_count": null,
   "metadata": {},
   "outputs": [],
   "source": [
    "# Count the occurrences of each holiday type\n",
    "df7['Type'].value_counts()"
   ]
  },
  {
   "cell_type": "code",
   "execution_count": null,
   "metadata": {},
   "outputs": [],
   "source": [
    "# Plot the distribution of holidays by type\n",
    "plt.figure(figsize=(8, 6))\n",
    "sns.countplot(x='Type', data=df7, palette='Set2')\n",
    "plt.title('Distribution of Bank Holiday Types')\n",
    "plt.xlabel('Holiday Types')\n",
    "plt.ylabel('Count')\n",
    "plt.xticks(rotation=45)\n",
    "plt.tight_layout()\n",
    "plt.show()"
   ]
  },
  {
   "cell_type": "code",
   "execution_count": null,
   "metadata": {},
   "outputs": [],
   "source": [
    "# Group by 'Bank holidays' and count occurrences of each date\n",
    "holiday_counts = df7.groupby('Bank holidays').size()\n",
    "\n",
    "# Plot a line chart\n",
    "plt.figure(figsize=(10, 6))\n",
    "sns.lineplot(x=holiday_counts.index, y=holiday_counts.values, marker='o', color='b')\n",
    "plt.title('Bank Holidays Over Time')\n",
    "plt.xlabel('Date')\n",
    "plt.ylabel('Holiday Count')\n",
    "plt.xticks(rotation=45)\n",
    "plt.tight_layout()\n",
    "plt.show()"
   ]
  },
  {
   "cell_type": "markdown",
   "metadata": {},
   "source": [
    "---"
   ]
  },
  {
   "cell_type": "markdown",
   "metadata": {},
   "source": [
    "## <div id=\"#8-weather-daily-darksky\">  8. Weather Daily Darksky </div>\n",
    "`weather_daily_darksky.csv`"
   ]
  },
  {
   "cell_type": "code",
   "execution_count": null,
   "metadata": {},
   "outputs": [],
   "source": [
    "# Read data\n",
    "df8 = pd.read_csv(\"Data/8. weather_daily_darksky.csv\")\n",
    "df8.head()"
   ]
  },
  {
   "cell_type": "code",
   "execution_count": null,
   "metadata": {},
   "outputs": [],
   "source": [
    "# Print shape & columns\n",
    "df8_shape = df8.shape\n",
    "print(f\"The shape of `df8` is: {df8_shape}\")\n",
    "\n",
    "df8_columns = df8.columns\n",
    "df8_columns_count = len(df8_columns)\n",
    "print(f\"\\n`df8` contains {df8_columns_count} columns: \\n{df8_columns}\")"
   ]
  },
  {
   "cell_type": "code",
   "execution_count": null,
   "metadata": {},
   "outputs": [],
   "source": [
    "# Display basic info\n",
    "print(df8.info())\n",
    "print(df8.describe())"
   ]
  },
  {
   "cell_type": "code",
   "execution_count": null,
   "metadata": {},
   "outputs": [],
   "source": [
    "# Check missing values\n",
    "print(df8.isnull().sum())"
   ]
  },
  {
   "cell_type": "code",
   "execution_count": null,
   "metadata": {},
   "outputs": [],
   "source": [
    "# Histograms for key columns\n",
    "\n",
    "numerical_columns = ['temperatureMax', 'temperatureMin', 'dewPoint', 'windSpeed', 'pressure', 'humidity']\n",
    "plt.figure(figsize=(12, 10))\n",
    "\n",
    "for i, col in enumerate(numerical_columns, 1):\n",
    "    plt.subplot(2, 3, i)\n",
    "    sns.histplot(df8[col], kde=True, bins=20)\n",
    "    plt.title(f'Distribution of {col}')\n",
    "\n",
    "plt.tight_layout()\n",
    "plt.show()"
   ]
  },
  {
   "cell_type": "code",
   "execution_count": null,
   "metadata": {},
   "outputs": [],
   "source": [
    "# Boxplots for numerical columns\n",
    "plt.figure(figsize=(12, 8))\n",
    "sns.boxplot(data=df8[numerical_columns])\n",
    "plt.title('Boxplot of Numerical Columns')\n",
    "plt.xticks(rotation=45)\n",
    "plt.tight_layout()\n",
    "plt.show()"
   ]
  },
  {
   "cell_type": "code",
   "execution_count": null,
   "metadata": {},
   "outputs": [],
   "source": [
    "# Plot correlations between numerical columns\n",
    "corr_matrix = df8[numerical_columns].corr()\n",
    "plt.figure(figsize=(10, 8))\n",
    "sns.heatmap(corr_matrix, annot=True, cmap='coolwarm', fmt='.2f', linewidths=0.5)\n",
    "plt.title('Correlation Matrix of Numerical Columns')\n",
    "plt.tight_layout()\n",
    "plt.show()"
   ]
  },
  {
   "cell_type": "code",
   "execution_count": null,
   "metadata": {},
   "outputs": [],
   "source": [
    "# Plot distribution of the 'icon' column (weather conditions)\n",
    "plt.figure(figsize=(10, 6))\n",
    "sns.countplot(x='icon', data=df8, palette='Set2')\n",
    "plt.title('Distribution of Weather Icons')\n",
    "plt.xticks(rotation=45)\n",
    "plt.tight_layout()\n",
    "plt.show()"
   ]
  },
  {
   "cell_type": "code",
   "execution_count": null,
   "metadata": {},
   "outputs": [],
   "source": [
    "# Plot distribution of the 'precipType' column (precipitation types)\n",
    "plt.figure(figsize=(10, 6))\n",
    "sns.countplot(x='precipType', data=df8, palette='Set2')\n",
    "plt.title('Distribution of Precipitation Types')\n",
    "plt.xticks(rotation=45)\n",
    "plt.tight_layout()\n",
    "plt.show()"
   ]
  },
  {
   "cell_type": "code",
   "execution_count": null,
   "metadata": {},
   "outputs": [],
   "source": [
    "# Plot distribution of the 'summary' column (weather summary)\n",
    "\n",
    "# Combine all text in the 'summary' column into one large string\n",
    "text = \" \".join(summary for summary in df8['summary'].dropna())\n",
    "\n",
    "# Generate the word cloud\n",
    "wordcloud = WordCloud(width=800, height=400, background_color='white').generate(text)\n",
    "\n",
    "# Display the word cloud\n",
    "plt.figure(figsize=(10, 6))\n",
    "plt.imshow(wordcloud, interpolation='bilinear')\n",
    "plt.axis('off')\n",
    "plt.title('Word Cloud of Weather Summaries')\n",
    "plt.tight_layout()\n",
    "plt.show()"
   ]
  },
  {
   "cell_type": "markdown",
   "metadata": {},
   "source": [
    "---"
   ]
  },
  {
   "cell_type": "markdown",
   "metadata": {},
   "source": [
    "## <div id=\"#9-weather-hourly-darksky\">  9. Weather Hourly Darksky </div>\n",
    "`weather_hourly_darksky.csv`"
   ]
  },
  {
   "cell_type": "code",
   "execution_count": null,
   "metadata": {},
   "outputs": [],
   "source": [
    "# Read data\n",
    "df9 = pd.read_csv(\"Data/9. weather_hourly_darksky.csv\")\n",
    "df9.head()"
   ]
  },
  {
   "cell_type": "code",
   "execution_count": null,
   "metadata": {},
   "outputs": [],
   "source": [
    "# Print shape & columns\n",
    "df9_shape = df8.shape\n",
    "print(f\"The shape of `df8` is: {df9_shape}\")\n",
    "\n",
    "df9_columns = df9.columns\n",
    "df9_columns_count = len(df9_columns)\n",
    "print(f\"\\n`df9` contains {df9_columns_count} columns: \\n{df9_columns}\")"
   ]
  },
  {
   "cell_type": "code",
   "execution_count": null,
   "metadata": {},
   "outputs": [],
   "source": [
    "# Display basic info\n",
    "print(df9.info())\n",
    "print(df9.describe())"
   ]
  },
  {
   "cell_type": "code",
   "execution_count": null,
   "metadata": {},
   "outputs": [],
   "source": [
    "# Check missing values\n",
    "print(df9.isnull().sum())"
   ]
  },
  {
   "cell_type": "code",
   "execution_count": null,
   "metadata": {},
   "outputs": [],
   "source": [
    "# Distribution of temperature\n",
    "plt.figure(figsize=(10, 6))\n",
    "sns.histplot(df9['temperature'], kde=True, color='skyblue')\n",
    "plt.title('Distribution of Temperature')\n",
    "plt.xlabel('Temperature')\n",
    "plt.ylabel('Frequency')\n",
    "plt.tight_layout()\n",
    "plt.show()"
   ]
  },
  {
   "cell_type": "code",
   "execution_count": null,
   "metadata": {},
   "outputs": [],
   "source": [
    "# Distribution of humidity\n",
    "plt.figure(figsize=(10, 6))\n",
    "sns.histplot(df9['humidity'], kde=True, color='orange')\n",
    "plt.title('Distribution of Humidity')\n",
    "plt.xlabel('Humidity')\n",
    "plt.ylabel('Frequency')\n",
    "plt.tight_layout()\n",
    "plt.show()"
   ]
  },
  {
   "cell_type": "code",
   "execution_count": null,
   "metadata": {},
   "outputs": [],
   "source": [
    "# Distribution of windSpeed\n",
    "plt.figure(figsize=(10, 6))\n",
    "sns.histplot(df9['windSpeed'], kde=True, color='green')\n",
    "plt.title('Distribution of Wind Speed')\n",
    "plt.xlabel('Wind Speed (km/h)')\n",
    "plt.ylabel('Frequency')\n",
    "plt.tight_layout()\n",
    "plt.show()"
   ]
  },
  {
   "cell_type": "code",
   "execution_count": null,
   "metadata": {},
   "outputs": [],
   "source": [
    "# Correlation Heatmap\n",
    "\n",
    "# Compute the correlation matrix\n",
    "corr_matrix = df9[['visibility', 'windBearing', 'temperature', 'dewPoint', 'pressure', \n",
    "                    'apparentTemperature', 'windSpeed', 'humidity']].corr()\n",
    "\n",
    "# Plot the heatmap\n",
    "plt.figure(figsize=(10, 6))\n",
    "sns.heatmap(corr_matrix, annot=True, cmap='coolwarm', fmt='.2f', linewidths=0.5)\n",
    "plt.title('Correlation Heatmap of Weather Variables')\n",
    "plt.tight_layout()\n",
    "plt.show()"
   ]
  },
  {
   "cell_type": "code",
   "execution_count": null,
   "metadata": {},
   "outputs": [],
   "source": [
    "# Time Series of temperature\n",
    "\n",
    "# Convert 'time' to datetime\n",
    "df9['time'] = pd.to_datetime(df9['time'])\n",
    "\n",
    "# Plot temperature over time\n",
    "plt.figure(figsize=(12, 6))\n",
    "sns.lineplot(x='time', y='temperature', data=df9, color='blue')\n",
    "plt.title('Temperature Over Time')\n",
    "plt.xlabel('Time')\n",
    "plt.ylabel('Temperature')\n",
    "plt.xticks(rotation=45)\n",
    "plt.tight_layout()\n",
    "plt.show()"
   ]
  },
  {
   "cell_type": "code",
   "execution_count": null,
   "metadata": {},
   "outputs": [],
   "source": [
    "# Weather Summary Count\n",
    "plt.figure(figsize=(10, 6))\n",
    "sns.countplot(x='summary', data=df9, palette='Set2')\n",
    "plt.title('Weather Summary Count')\n",
    "plt.xticks(rotation=45)\n",
    "plt.tight_layout()\n",
    "plt.show()"
   ]
  },
  {
   "cell_type": "markdown",
   "metadata": {},
   "source": [
    "---"
   ]
  },
  {
   "cell_type": "markdown",
   "metadata": {},
   "source": [
    "## <div id=\"#12-tariff-type\"> 12. Tariff Type </div>\n",
    "`tariff_type.xlsx`"
   ]
  },
  {
   "cell_type": "code",
   "execution_count": null,
   "metadata": {},
   "outputs": [],
   "source": [
    "df12 = pd.read_excel('Data/12. tariff_type.xlsx')\n",
    "df12"
   ]
  },
  {
   "cell_type": "code",
   "execution_count": null,
   "metadata": {},
   "outputs": [],
   "source": [
    "# -------------------------------\n",
    "# Prepare the DataFrame\n",
    "# -------------------------------\n",
    "\n",
    "# Ensure TariffDateTime is datetime\n",
    "df12['TariffDateTime'] = pd.to_datetime(df12['TariffDateTime'])\n",
    "\n",
    "# Create additional columns for convenience\n",
    "df12['Date'] = df12['TariffDateTime'].dt.date\n",
    "df12['Time'] = df12['TariffDateTime'].dt.strftime('%H:%M')\n",
    "df12['DayOfWeek'] = df12['TariffDateTime'].dt.day_name()\n",
    "df12['Month'] = df12['TariffDateTime'].dt.to_period('M')  # e.g., 2025-03\n",
    "\n",
    "# Create a numeric mapping for tariff (useful for heatmaps/step plots)\n",
    "tariff_mapping = {'Low': 0, 'Normal': 1, 'High': 2}\n",
    "df12['TariffNumeric'] = df12['Tariff'].map(tariff_mapping)\n",
    "\n",
    "# Define a custom color palette: you can adjust the colors as desired\n",
    "custom_palette = {\"Low\": \"lightgreen\", \"Normal\": \"moccasin\", \"High\": \"lightcoral\"}\n",
    "numeric_cmap = sns.color_palette([\"lightgreen\", \"moccasin\", \"lightcoral\"])"
   ]
  },
  {
   "cell_type": "markdown",
   "metadata": {},
   "source": [
    "### 12.1 Heatmap Visualisations"
   ]
  },
  {
   "cell_type": "code",
   "execution_count": null,
   "metadata": {},
   "outputs": [],
   "source": [
    "# (a) Daily Heatmap: Pivot table with Date as rows and Time as columns.\n",
    "\n",
    "pivot_daily = df12.pivot(index='Date', columns='Time', values='TariffNumeric')\n",
    "plt.figure(figsize=(15, 10))\n",
    "ax = sns.heatmap(pivot_daily, cmap=numeric_cmap, cbar_kws={'ticks': [0, 1, 2]})\n",
    "ax.set_title('Daily Tariff Heatmap (0=Low, 1=Normal, 2=High)')\n",
    "plt.xlabel('Time of Day')\n",
    "plt.ylabel('Date')\n",
    "plt.show()"
   ]
  },
  {
   "cell_type": "code",
   "execution_count": null,
   "metadata": {},
   "outputs": [],
   "source": [
    "# (b) Weekly Heatmap: Compute the mode tariff for each day-of-week & time interval.\n",
    "pivot_weekly = df12.pivot_table(index='DayOfWeek', columns='Time', values='TariffNumeric', \n",
    "                              aggfunc=lambda x: pd.Series.mode(x)[0])\n",
    "# Order days logically\n",
    "days_order = ['Monday', 'Tuesday', 'Wednesday', 'Thursday', 'Friday', 'Saturday', 'Sunday']\n",
    "pivot_weekly = pivot_weekly.reindex(days_order)\n",
    "plt.figure(figsize=(15, 5))\n",
    "ax = sns.heatmap(pivot_weekly, cmap=numeric_cmap, cbar_kws={'ticks': [0, 1, 2]})\n",
    "ax.set_title('Weekly Tariff Heatmap (Mode Tariff)')\n",
    "plt.xlabel('Time of Day')\n",
    "plt.ylabel('Day of Week')\n",
    "plt.show()"
   ]
  },
  {
   "cell_type": "markdown",
   "metadata": {},
   "source": [
    "### 12.2 Faceted Plots by Month"
   ]
  },
  {
   "cell_type": "code",
   "execution_count": null,
   "metadata": {},
   "outputs": [],
   "source": [
    "# FacetGrid: Plot a scatter plot of tariff over time for each month.\n",
    "g = sns.FacetGrid(df12, col='Month', col_wrap=4, height=3, sharex=False)\n",
    "g.map_dataframe(sns.scatterplot, x='TariffDateTime', y='Tariff', \n",
    "                hue='Tariff', palette=custom_palette)\n",
    "g.add_legend()\n",
    "g.fig.suptitle('Tariff Over Time by Month', y=1.05)\n",
    "plt.show()"
   ]
  },
  {
   "cell_type": "markdown",
   "metadata": {},
   "source": [
    "### 12.3 Aggregated Bar/Count Plots"
   ]
  },
  {
   "cell_type": "code",
   "execution_count": null,
   "metadata": {},
   "outputs": [],
   "source": [
    "# Frequency of tariffs by Time of Day\n",
    "time_counts = df12.groupby(['Time', 'Tariff']).size().unstack(fill_value=0)\n",
    "time_counts = time_counts.sort_index()  # Ensure proper time order\n",
    "time_counts.plot(kind='bar', stacked=True, figsize=(15, 5), color=custom_palette)\n",
    "plt.title('Tariff Frequency by Time of Day')\n",
    "plt.xlabel('Time of Day')\n",
    "plt.ylabel('Count')\n",
    "plt.legend(title='Tariff')\n",
    "plt.show()"
   ]
  },
  {
   "cell_type": "code",
   "execution_count": null,
   "metadata": {},
   "outputs": [],
   "source": [
    "# Frequency of tariffs by Day of Week\n",
    "day_counts = df12.groupby(['DayOfWeek', 'Tariff']).size().unstack(fill_value=0)\n",
    "day_counts = day_counts.reindex(days_order)\n",
    "day_counts.plot(kind='bar', stacked=True, figsize=(10, 5), color=custom_palette)\n",
    "plt.title('Tariff Frequency by Day of Week')\n",
    "plt.xlabel('Day of Week')\n",
    "plt.ylabel('Count')\n",
    "plt.legend(title='Tariff')\n",
    "plt.show()"
   ]
  },
  {
   "cell_type": "code",
   "execution_count": null,
   "metadata": {},
   "outputs": [],
   "source": [
    "# Frequency of tariffs by Month\n",
    "month_counts = df12.groupby(['Month', 'Tariff']).size().unstack(fill_value=0)\n",
    "month_counts.plot(kind='bar', stacked=True, figsize=(10, 5), color=custom_palette)\n",
    "plt.title('Tariff Frequency by Month')\n",
    "plt.xlabel('Month')\n",
    "plt.ylabel('Count')\n",
    "plt.legend(title='Tariff')\n",
    "plt.show()"
   ]
  },
  {
   "cell_type": "markdown",
   "metadata": {},
   "source": [
    "### 12.4 Time Series Scatter and Step Plots"
   ]
  },
  {
   "cell_type": "code",
   "execution_count": null,
   "metadata": {},
   "outputs": [],
   "source": [
    "# (a) Scatter Plot over time (shows individual points with colors)\n",
    "plt.figure(figsize=(15, 5))\n",
    "sns.scatterplot(data=df12, x='TariffDateTime', y='Tariff', hue='Tariff', palette=custom_palette)\n",
    "plt.title('Tariff Over Time (Scatter Plot)')\n",
    "plt.xlabel('DateTime')\n",
    "plt.ylabel('Tariff')\n",
    "plt.show()"
   ]
  },
  {
   "cell_type": "code",
   "execution_count": null,
   "metadata": {},
   "outputs": [],
   "source": [
    "# (b) Step Plot: Convert tariff to numeric then plot as a step plot.\n",
    "df_sorted = df12.sort_values('TariffDateTime')\n",
    "plt.figure(figsize=(15, 5))\n",
    "plt.step(df_sorted['TariffDateTime'], df_sorted['TariffNumeric'], where='post', color='black')\n",
    "plt.title('Tariff Step Plot Over Time')\n",
    "plt.xlabel('DateTime')\n",
    "plt.ylabel('Tariff (Numeric)')\n",
    "plt.yticks([0, 1, 2], ['Low', 'Normal', 'High'])\n",
    "plt.show()"
   ]
  }
 ],
 "metadata": {
  "kernelspec": {
   "display_name": "base",
   "language": "python",
   "name": "python3"
  },
  "language_info": {
   "codemirror_mode": {
    "name": "ipython",
    "version": 3
   },
   "file_extension": ".py",
   "mimetype": "text/x-python",
   "name": "python",
   "nbconvert_exporter": "python",
   "pygments_lexer": "ipython3",
   "version": "3.9.18"
  }
 },
 "nbformat": 4,
 "nbformat_minor": 2
}
