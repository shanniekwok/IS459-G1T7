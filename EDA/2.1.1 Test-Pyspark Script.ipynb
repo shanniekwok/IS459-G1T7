{
 "cells": [
  {
   "cell_type": "markdown",
   "metadata": {},
   "source": [
    "# Test Pyspark Script"
   ]
  },
  {
   "cell_type": "markdown",
   "metadata": {},
   "source": [
    "---"
   ]
  },
  {
   "cell_type": "markdown",
   "metadata": {},
   "source": [
    "## 0. Load Libraries"
   ]
  },
  {
   "cell_type": "code",
   "execution_count": null,
   "metadata": {},
   "outputs": [],
   "source": [
    "import pandas as pd"
   ]
  },
  {
   "cell_type": "markdown",
   "metadata": {},
   "source": [
    "---"
   ]
  },
  {
   "cell_type": "markdown",
   "metadata": {},
   "source": [
    "## 1. Load Data"
   ]
  },
  {
   "cell_type": "code",
   "execution_count": null,
   "metadata": {},
   "outputs": [],
   "source": [
    "merged_reduced_df2_df6 = pd.read_csv('Merged Data/5. merged_reduced_d2_df6.csv')\n",
    "merged_reduced_df2_df6_df10 = pd.read_csv('Merged Data/6. merged_reduced_d2_df6_df10.csv')"
   ]
  },
  {
   "cell_type": "code",
   "execution_count": null,
   "metadata": {},
   "outputs": [],
   "source": [
    "# ---------- READ INPUT CSV FILES ----------\n",
    "\n",
    "df2 = pd.read_csv(\"../Data/2. halfhourly_dataset.csv\")\n",
    "df6 = pd.read_csv(\"../Data/6. informations_households.csv\")\n",
    "df10_1 = pd.read_csv(\"../Data/10. acorn_information.csv\")\n",
    "\n",
    "df12 = pd.read_excel('../Data/12. tariff_type.xlsx')"
   ]
  },
  {
   "cell_type": "code",
   "execution_count": null,
   "metadata": {},
   "outputs": [],
   "source": [
    "# ---------- CONVERT COLUMN TYPES ----------\n",
    "\n",
    "df2['tstp'] = pd.to_datetime(df2['tstp'])\n",
    "df12['TariffDateTime'] = pd.to_datetime(df12['TariffDateTime'])\n",
    "df2['energy(kWh/hh)'] = pd.to_numeric(df2['energy(kWh/hh)'], errors='coerce')  # Converts, setting errors to NaN"
   ]
  },
  {
   "cell_type": "code",
   "execution_count": null,
   "metadata": {},
   "outputs": [],
   "source": [
    "# ---------- DROP UNNECESSARY ROWS ----------\n",
    "\n",
    "df2 = df2.dropna(subset=['energy(kWh/hh)']) # Drop any rows where energy conversion failed\n",
    "reduced_df2 = df2[df2['tstp'].isin(df12['TariffDateTime'])]"
   ]
  },
  {
   "cell_type": "code",
   "execution_count": null,
   "metadata": {},
   "outputs": [],
   "source": [
    "# ---------- MERGE DF ----------\n",
    "\n",
    "# Merge reduced df2 & df6\n",
    "merged_reduced_df2_df6 = pd.merge(reduced_df2, df6, on=\"LCLid\", how=\"left\")\n",
    "merged_reduced_df2_df6 = merged_reduced_df2_df6.drop(\"file\", axis=1)\n",
    "\n",
    "# Merge with df10\n",
    "merged_reduced_df2_df6_df10 = pd.merge(merged_reduced_df2_df6, reduced_df10_1, on=\"Acorn\", how=\"left\")\n",
    "\n",
    "# Merge with df12\n",
    "acorn_energy = merged_reduced_df2_df6_df10.groupby(['tstp', 'Acorn', \"Acorn_grouped\", \"Acorn Category\"])['energy(kWh/hh)'].mean().reset_index() # Group by datetime and Acorn and compute mean energy\n",
    "merged_df2_df6_df10_df12 = pd.merge(df12, acorn_energy, left_on='TariffDateTime', right_on='tstp', how='left')"
   ]
  }
 ],
 "metadata": {
  "kernelspec": {
   "display_name": "base",
   "language": "python",
   "name": "python3"
  },
  "language_info": {
   "codemirror_mode": {
    "name": "ipython",
    "version": 3
   },
   "file_extension": ".py",
   "mimetype": "text/x-python",
   "name": "python",
   "nbconvert_exporter": "python",
   "pygments_lexer": "ipython3",
   "version": "3.9.18"
  }
 },
 "nbformat": 4,
 "nbformat_minor": 2
}
